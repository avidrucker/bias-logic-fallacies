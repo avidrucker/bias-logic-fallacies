{
 "cells": [
  {
   "cell_type": "markdown",
   "metadata": {},
   "source": [
    "# Convert one set of subtitles to a single string w/ only needed content\n",
    "\n",
    "See the bottom of this document for links to the video sources."
   ]
  },
  {
   "cell_type": "code",
   "execution_count": 26,
   "metadata": {},
   "outputs": [],
   "source": [
    "# import in text data, save to string\n",
    "filepath = r\"datasets/The Strawman Fallacy _ Idea Channel _ PBS Digital Studios - English - CC.txt\"\n",
    "data = \"\"\n",
    "with open(filepath, 'r') as f:\n",
    "    data = f.read()\n",
    "#print(data)"
   ]
  },
  {
   "cell_type": "code",
   "execution_count": 27,
   "metadata": {},
   "outputs": [
    {
     "name": "stdout",
     "output_type": "stream",
     "text": [
      "Hi there, Internet commenter. You've been sent a link to this video because someone is concerned that you might not be arguing your case to your utmost ability. They're concerned you might have used a fallacy to make an important point, thus defeating your own claim. The fallacy they're concerned you might have used is the straw man fallacy. Contra\n"
     ]
    }
   ],
   "source": [
    "# remove extraneous line splits from subtitle string\n",
    "data2 = \" \".join(data.split(\"\\n\\n\"))\n",
    "print(data2[:350])"
   ]
  },
  {
   "cell_type": "code",
   "execution_count": 28,
   "metadata": {},
   "outputs": [
    {
     "name": "stdout",
     "output_type": "stream",
     "text": [
      "the straw man fallacy. Contrary to what many people would have us believe, a straw man is not simply an argument that you dislike or find inconvenient. Rather, it is a version of an argument that is misrepresented-- simplified so that it is easier to knock over. Just as an actual man made of straw is a less solid version of a man made of flesh, a s\n"
     ]
    }
   ],
   "source": [
    "# remove intro text from string\n",
    "intro_text = \"Hi there, Internet commenter. You've been sent a link to this video because someone is concerned that you might not be arguing your case to your utmost ability. They're concerned you might have used a fallacy to make an important point, thus defeating your own claim. The fallacy they're concerned you might have used is \"\n",
    "data2 = data2.replace(intro_text,\"\")\n",
    "print(data2[:350])"
   ]
  },
  {
   "cell_type": "markdown",
   "metadata": {},
   "source": [
    "# Now, let's do the same, for the remaining 7 subtitle files ;)"
   ]
  },
  {
   "cell_type": "code",
   "execution_count": 29,
   "metadata": {},
   "outputs": [],
   "source": [
    "sub_loc_2 = r\"datasets/The Authority Fallacy _ Idea Channel _ PBS Digital Studios - English - CC.txt\"\n",
    "sub_loc_3 = r\"datasets/Moving the Goal Posts Fallacy _ Idea Channel _ PBS Digital Studios - English - CC.txt\"\n",
    "sub_loc_4 = r\"datasets/The Fallacy Fallacy _ Idea Channel _ PBS Digital Studios - English - CC.txt\"\n",
    "sub_loc_5 = r\"datasets/The Texas Sharpshooter Fallacy _ Idea Channel _ PBS Digital Studios - English - CC.txt\"\n",
    "sub_loc_6 = r\"datasets/The Ad Hominem Fallacy _ Idea Channel _ PBS Digital Studios - English - CC.txt\"\n",
    "sub_loc_7 = r\"datasets/The Black and White Fallacy _ Idea Channel _ PBS Digital Studios - English - CC.txt\"\n",
    "sub_loc_8 = r\"datasets/The _No True Scotsman_ Fallacy _ Idea Channel _ PBS Digital Studios - English - CC.txt\"\n",
    "\n",
    "subs_2_thru_8 = [sub_loc_2, sub_loc_3, sub_loc_4, sub_loc_5, sub_loc_6, sub_loc_7, sub_loc_8]"
   ]
  },
  {
   "cell_type": "markdown",
   "metadata": {},
   "source": [
    "# ... and, let's modularize"
   ]
  },
  {
   "cell_type": "code",
   "execution_count": 50,
   "metadata": {},
   "outputs": [],
   "source": [
    "intro_text = \"Hi there, Internet commenter. You've been sent a link to this video because someone is concerned that you might not be arguing your case to your utmost ability. They're concerned you might have used a fallacy to make an important point, thus defeating your own claim. The fallacy they're concerned you might have used is \"\n",
    "intro_text2 = \"Hi there, internet commenter. You've been sent a link to this video because someone is concerned that you might not be arguing your case to your utmost ability. They're concerned you might have used a fallacy to make an important point, thus defeating your own claim. The fallacy they're concerned you might have used is \"\n",
    "intro_text3 = \"Hey there, internet commenter. You've been sent a link to this video because someone is concerned that you are not arguing to your utmost ability. They're concerned you might have used a fallacy to make an important point, thereby undercutting your own claims. The fallacy they're concerned you might have used is \"\n",
    "intro_text4 = \"Hey there, Internet Commenter. You've been sent a link to this video because someone is concerned that you are not arguing to your utmost ability. They're concerned you might have used a fallacy to make an important point, thereby undercutting your own claims. The fallacy they're concerned you might have used is \"\n",
    "intro_text5 = \"Hey there, internet commenter. You've been sent a link to this video because someone is concerned that you are not arguing to your utmost ability. They're concerned you might have used a fallacy to make an important point, thereby undercutting your own claims. The fallacy they're concerned you might have used is-- \"\n",
    "\n",
    "def import_subs(filepath):\n",
    "    data = \"\"\n",
    "    with open(filepath, 'r') as f:\n",
    "        data = f.read()\n",
    "    return data\n",
    "\n",
    "def remove_breaks(s):\n",
    "    return \" \".join(s.split(\"\\n\\n\"))\n",
    "\n",
    "def remove_intro(s):\n",
    "    return s.replace(intro_text,\"\").replace(intro_text2,\"\").replace(intro_text3,\"\").replace(intro_text4,\"\").replace(intro_text5,\"\")\n",
    "\n",
    "def load_and_prep_subs(subs_loc_list):\n",
    "    sub_strings = []\n",
    "    for subs_loc in subs_loc_list:\n",
    "        temp_string = import_subs(subs_loc)\n",
    "        temp_string = remove_breaks(temp_string)\n",
    "        sub_strings.append(remove_intro(temp_string))\n",
    "    return sub_strings"
   ]
  },
  {
   "cell_type": "markdown",
   "metadata": {},
   "source": [
    "# ... okay, here we go :P (get remaining 7 subtitle texts)"
   ]
  },
  {
   "cell_type": "code",
   "execution_count": 51,
   "metadata": {},
   "outputs": [],
   "source": [
    "sub_strings_list = load_and_prep_subs(subs_2_thru_8)"
   ]
  },
  {
   "cell_type": "code",
   "execution_count": 54,
   "metadata": {},
   "outputs": [
    {
     "name": "stdout",
     "output_type": "stream",
     "text": [
      "the authority fallacy. The authority fallacy holds that because someon\n",
      "\n",
      "moving the goalposts. Moving the goalposts, sometimes called raising t\n",
      "\n",
      "the fallacy fallacy. The fallacy fallacy assumes that because someone'\n",
      "\n",
      "The Texas Sharpshooter. The Texas Sharpshooter fallacy is one where an\n",
      "\n",
      "the ad hominem attack. Ad hominem criticism is where, instead of criti\n",
      "\n",
      "the black and white fallacy. A black and white fallacy is where you pr\n",
      "\n",
      "the no true Scotsman fallacy. The no true Scotsman fallacy calls into \n",
      "\n"
     ]
    }
   ],
   "source": [
    "for s in sub_strings_list:\n",
    "    print(s[:70] + \"\\n\")"
   ]
  },
  {
   "cell_type": "code",
   "execution_count": 57,
   "metadata": {},
   "outputs": [
    {
     "name": "stdout",
     "output_type": "stream",
     "text": [
      "the straw man fallacy. Contrary to what many people would have us beli\n",
      "\n",
      "the authority fallacy. The authority fallacy holds that because someon\n",
      "\n",
      "moving the goalposts. Moving the goalposts, sometimes called raising t\n",
      "\n",
      "the fallacy fallacy. The fallacy fallacy assumes that because someone'\n",
      "\n",
      "The Texas Sharpshooter. The Texas Sharpshooter fallacy is one where an\n",
      "\n",
      "the ad hominem attack. Ad hominem criticism is where, instead of criti\n",
      "\n",
      "the black and white fallacy. A black and white fallacy is where you pr\n",
      "\n",
      "the no true Scotsman fallacy. The no true Scotsman fallacy calls into \n",
      "\n"
     ]
    }
   ],
   "source": [
    "# let's include the strawman fallacy in with the rest of the group\n",
    "sub_strings_list.insert(0, data2)\n",
    "\n",
    "for s in sub_strings_list:\n",
    "    print(s[:70] + \"\\n\")"
   ]
  },
  {
   "cell_type": "code",
   "execution_count": null,
   "metadata": {},
   "outputs": [],
   "source": [
    "# save our work"
   ]
  },
  {
   "cell_type": "markdown",
   "metadata": {},
   "source": [
    "# Subtitle Sources\n",
    "\n",
    "the entire Logical Fallacy playlist:  \n",
    "http://bit.ly/1wpuCcU  \n",
    "\n",
    "the individual Logical Fallacy videos:  \n",
    "https://youtu.be/cGZkCPo7tC0  \n",
    "https://youtu.be/KeswYJgf5mM  \n",
    "https://youtu.be/oGBO-WMrlIQ  \n",
    "https://youtu.be/_tcBsryYd6s  \n",
    "https://youtu.be/IVFK8sVdJNg  \n",
    "https://youtu.be/eqz53d-fYL8  \n",
    "https://youtu.be/5zzSqL--d_I  "
   ]
  },
  {
   "cell_type": "markdown",
   "metadata": {},
   "source": [
    "# We start by inspectign the first fallacy, the Straw Man Fallacy"
   ]
  },
  {
   "cell_type": "code",
   "execution_count": 58,
   "metadata": {},
   "outputs": [
    {
     "data": {
      "text/plain": [
       "\"the straw man fallacy. Contrary to what many people would have us believe, a straw man is not simply an argument that you dislike or find inconvenient. Rather, it is a version of an argument that is misrepresented-- simplified so that it is easier to knock over. Just as an actual man made of straw is a less solid version of a man made of flesh, a straw man argument is a less solid version of a fully fleshed out argument. A straw man replaces or represents whatever actual argument is being made. Straw manning can come in many different forms. It's not even always intentional. You might accidentally construct a straw man if you don't fully understand the depth of an argument. And that is fine. It happens to the best of us. However, to intentionally misread or misrepresent an argument to simplify the process of discrediting it, that's a little bit less forgivable. To take nuanced points out of context, to ignore crucial information, to even exaggerate claims to the point of absurdity which is then easier to refute, these are all straw man tactics. For example, Mike and Straw Mike are having a conversation about how to responsibly depict awful stuff in media. I don't think it's too much to ask that when a media creator wants to show heinous or awful stuff, they do so in a context that shows that that stuff is heinous and awful. Oh, so now we're not allowed to show violent or terrible things unless we include some long-winded sermon about how bad things are bad? I think creators should be able to show or do whatever they want. The original argument states a preference for what Mike thinks constitutes the responsible use of media. The straw man argument recasts this as something much simpler and easier to agree with-- freedom is good, censorship is bad. But now Mike and Straw Mike are no longer arguing about the same point and so the conversation will quickly become unfocused and aggressive, which is never fun. If you're going to win an argument, you want to win against what the other side actually thinks, don't you? A straw man argument keeps that from happening. I hope this description of the straw man fallacy has been helpful. Happy conversing. \""
      ]
     },
     "execution_count": 58,
     "metadata": {},
     "output_type": "execute_result"
    }
   ],
   "source": [
    "sub_strings_list[0]"
   ]
  },
  {
   "cell_type": "code",
   "execution_count": null,
   "metadata": {},
   "outputs": [],
   "source": [
    "# idea channel fallacy #1: strawman fallacy\n",
    "ic_fallacy_1 = {\n",
    "    \"name\": \"the straw man fallacy\",\n",
    "    \"intro\": \"Contrary to what many people would have us believe, a straw man is not simply an argument that you dislike or find inconvenient. Rather, it is a version of an argument that is misrepresented-- simplified so that it is easier to knock over. Just as an actual man made of straw is a less solid version of a man made of flesh, a straw man argument is a less solid version of a fully fleshed out argument. A straw man replaces or represents whatever actual argument is being made. Straw manning can come in many different forms. It's not even always intentional. You might accidentally construct a straw man if you don't fully understand the depth of an argument. And that is fine. It happens to the best of us. However, to intentionally misread or misrepresent an argument to simplify the process of discrediting it, that's a little bit less forgivable. To take nuanced points out of context, to ignore crucial information, to even exaggerate claims to the point of absurdity which is then easier to refute, these are all straw man tactics.\",\n",
    "    \"example\": \"For example, Mike and Straw Mike are having a conversation about how to responsibly depict awful stuff in media. I don't think it's too much to ask that when a media creator wants to show heinous or awful stuff, they do so in a context that shows that that stuff is heinous and awful. Oh, so now we're not allowed to show violent or terrible things unless we include some long-winded sermon about how bad things are bad? I think creators should be able to show or do whatever they want.\",\n",
    "    \"explanation\": \"The original argument states a preference for what Mike thinks constitutes the responsible use of media. The straw man argument recasts this as something much simpler and easier to agree with-- freedom is good, censorship is bad. But now Mike and Straw Mike are no longer arguing about the same point and so the conversation will quickly become unfocused and aggressive, which is never fun. If you're going to win an argument, you want to win against what the other side actually thinks, don't you? A straw man argument keeps that from happening.\",\n",
    "    \"typeof\": \"Red Herring\"\n",
    "}\n",
    "\n",
    "# type taken from http://www.fallacyfiles.org/strawman.html"
   ]
  },
  {
   "cell_type": "code",
   "execution_count": null,
   "metadata": {},
   "outputs": [],
   "source": [
    "## Straw Man Fallacy Structure\n",
    "fallacy_1_structure = [ \"Person 1 asserts proposition X.\", \"Person 2 argues against a superficially similar proposition Y, falsely, as if an argument against Y were an argument against X.\"]\n",
    "\n",
    "fallacy_1_descriptions = [ \"Quoting an opponent's words out of context—i.e., choosing quotations that misrepresent the opponent's intentions\",\n",
    "                     \"Presenting someone who defends a position poorly as the defender, then denying that person's arguments—thus giving the appearance that every upholder of that position (and thus the position itself) has been defeated.\",\n",
    "                     \"Oversimplifying an opponent's argument, then attacking this oversimplified version.\",\n",
    "                     \"Exaggerating (sometimes grossly exaggerating) an opponent's argument, then attacking this exaggerated version.\"\n",
    "                     ]\n",
    "\n",
    "fallacy_1_examples = [{\n",
    "    \"scenario\": \"A: We should relax the laws on beer.\\n\\nB: No, any society with unrestricted access to intoxicants loses its work ethic and goes only for immediate gratification.\",\n",
    "    \"explanation\": \"The original proposal was to relax laws on beer. Person B has misconstrued/misrepresented this proposal by responding to it as if it had been something like \"(we should have) unrestricted access to intoxicants.\" It is a logical fallacy because Person A never advocated allowing said unrestricted access to intoxicants (this is also a slippery slope argument).\"\n",
    "    },\n",
    "    {\"scenario\": \"In a 1977 appeal of a U.S. bank robbery conviction, a prosecuting attorney said in his closing argument:\\n\\nI submit to you that if you can't take this evidence and find these defendants guilty on this evidence then we might as well open all the banks and say, \\\"Come on and get the money, boys,\\\" because we'll never be able to convict them.\",\n",
    "     \"explanation\": \"This was a straw man designed to alarm the appeal judges; the chance that the precedent set by one case would literally make it impossible to convict any bank robbers is remote.\"\n",
    "    },\n",
    "    {\"scenario\":\"When campaigning for vice president in 1952, Nixon was accused of having illegally appropriated $18,000 in campaign funds for his personal use. In a televised response, based on an earlier politician's Fala speech, he spoke about another gift, a dog he had been given by a supporter:\\n\\nIt was a little cocker spaniel dog, in a crate he had sent all the way from Texas, black and white, spotted, and our little girl Tricia, six years old, named it Checkers. And, you know, the kids, like all kids, loved the dog, and I just want to say this right now, that, regardless of what they say about it, we are going to keep it.\",\n",
    "     \"explanation\":\"An example often given of a straw man is US President Richard Nixon's 1952 \\\"Checkers speech.\\\"\\n\\nThis was a straw man response; his critics had never criticized the dog as a gift or suggested he return it. This argument was successful at distracting many people from the funds and portraying his critics as nitpicking and heartless. Nixon received an outpouring of public support and remained on the ticket. He and Eisenhower were elected by a landslide.\"\n",
    "    }\n",
    "]\n"
   ]
  },
  {
   "cell_type": "markdown",
   "metadata": {},
   "source": [
    "In 2006, Robert Talisse and Scott Aikin expanded the application and use of the **straw man fallacy** beyond that of previous rhetorical scholars, arguing that the straw man fallacy can take two forms: the original form that misrepresents the opponent's position, which they call the **representative form**; and a new form they call the **selection form**.  \n",
    "\n",
    "The selection form focuses on a partial and weaker (and easier to refute) representation of the opponent's position. Then the easier refutation of this weaker position is claimed to refute the opponent's complete position. They point out the similarity of the selection form to the fallacy of hasty generalization, in which the refutation of an opposing position that is weaker than the opponent's is claimed as a refutation of all opposing arguments. Because they have found significantly increased use of the selection form in modern political argumentation, they view its identification as an important new tool for the improvement of public discourse.\n",
    "\n",
    "Aikin and Casey expanded on this model in 2010, introducing a third form. Referring to the \"**representative form**\" as the **classic straw man**, and the \"**selection form**\" as the **weak man**, a third form is called the **hollow man**.  \n",
    "\n",
    "A hollow man argument is one that is a complete fabrication, where both the viewpoint and the opponent expressing it do not in fact exist, or at the very least the arguer has never encountered them. Such arguments frequently take the form of vague phrasing such as \"some say,\" \"someone out there thinks\" or similar weasel words, or it might attribute a non-existent argument to a broad movement in general, rather than an individual or organization.\n",
    "\n",
    "A variation on the selection form, or \"weak man\" argument, that combines with an ad hominem and fallacy of composition is nut picking, a neologism coined by Kevin Drum. A combination of \"nut\" (i.e., insane person) and \"cherry picking\", nut picking refers to intentionally seeking out extremely fringe, non-representative statements or individuals from members of an opposing group and parading these as evidence of that entire group's incompetence or irrationality.\n",
    "\n",
    "The **steel man argument** (or steelmanning) is the opposite of the straw man argument. The idea is to find the best form of the opponent's argument to test opposing opinions."
   ]
  },
  {
   "cell_type": "markdown",
   "metadata": {},
   "source": [
    "## Strawman Fallacy Reading\n",
    "\n",
    "Description, logical form, examples (x2) w/ exaplanations & exceptions:\n",
    "https://www.logicallyfallacious.com/tools/lp/Bo/LogicalFallacies/169/Strawman-Fallacy\n",
    "\n",
    "Summarized purpose, explanation, and example:\n",
    "https://yourlogicalfallacyis.com/strawman\n",
    "\n",
    "Summary, example, and commic:\n",
    "https://owl.excelsior.edu/argument-and-critical-thinking/logical-fallacies/logical-fallacies-straw-man/\n",
    "\n",
    "!\n",
    "Simple, easy to read explanation and examples (x6):\n",
    "http://www.softschools.com/examples/fallacies/straw_man_examples/496/\n",
    "\n",
    "!!!\n",
    "\"Strawman Arguments: What They Are and How to Counter Them\":  \n",
    "Sumamry, significance, stages, types (x3), examples & their breakdowns, variants (x4), counters (x3), how to account for an audience, how to account for opponent's unintentional strawman usage (see [principle of charity](https://effectiviology.com/principle-of-charity/)), how to avoid using strawman yourself, conclusion and wrap-up  \n",
    "https://effectiviology.com/straw-man-arguments-recognize-counter-use/\n",
    "\n",
    "!!\n",
    "Etymology, quote, example, exposition (description), subfallacy \"extreme man\" and its logical breakdown, analysis of example with reader responses:\n",
    "http://www.fallacyfiles.org/strawman.html"
   ]
  },
  {
   "cell_type": "markdown",
   "metadata": {},
   "source": [
    "## [Further Reading](https://en.wikipedia.org/wiki/Straw_man):\n",
    "    \n",
    "Aunt Sally  \n",
    "Ad hominem  \n",
    "Devil's advocate  \n",
    "Cherry picking (fallacy)  \n",
    "Cognitive bias  \n",
    "Concern troll  \n",
    "Cratylism  \n",
    "Fallacy of quoting out of context  \n",
    "List of fallacies  \n",
    "Media manipulation  \n",
    "Per fas et nefas  \n",
    "Pooh-pooh  \n",
    "Red herring  \n",
    "Tilting at windmills  "
   ]
  },
  {
   "cell_type": "code",
   "execution_count": null,
   "metadata": {},
   "outputs": [],
   "source": []
  }
 ],
 "metadata": {
  "kernelspec": {
   "display_name": "Python 3",
   "language": "python",
   "name": "python3"
  },
  "language_info": {
   "codemirror_mode": {
    "name": "ipython",
    "version": 3
   },
   "file_extension": ".py",
   "mimetype": "text/x-python",
   "name": "python",
   "nbconvert_exporter": "python",
   "pygments_lexer": "ipython3",
   "version": "3.7.1"
  }
 },
 "nbformat": 4,
 "nbformat_minor": 2
}
