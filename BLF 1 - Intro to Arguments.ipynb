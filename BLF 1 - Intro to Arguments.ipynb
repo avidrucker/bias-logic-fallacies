{
 "cells": [
  {
   "cell_type": "markdown",
   "metadata": {},
   "source": [
    "# arugment \n",
    "With a quick [Google search \"what is an argument?\"](https://www.google.com/search?q=what+is+an+argument) we get\n",
    "noun : from Latin *arguere* \"make clear, prove, accuse\"\n",
    "\n",
    "1. an exchange of diverging or opposite views, typically a heated or angry one.\n",
    "2. a reason or set of reasons given with the aim of persuading others that an action or idea is right or wrong.\n",
    "3. `mathematics - logic`an independent variable associated with a function and determining the value of the function. For example, in the expression y = F ( x1, x2 ), the arguments of the function F are x 1 and x 2, and the value is y.\n",
    "4.  `linguistics` any of the noun phrases in a clause that are related directly to the verb, typically the subject, direct object, and indirect object.\n",
    "\n",
    "For the purpose of this document, I'd like to focus on the 2nd meaning: \"a set of reasons given with the aim of persuading others that an action or idea is right or wrong.\"\n",
    "\n",
    "> Author's note: In this survey document, please understand that the author does not take \"right or wrong\" as moralistic, but functional or practical, such as in the case of \"Don't touch that oven, because it's hot, and you will injure yourself if you do.\" or \"Meat production is, except in rare cases, more costly than vegetable production. Costs can be calculated in terms of water, energy, man-power, land, and environmental damage, among others (mental health for workers, physical health due to consumption, etc..)\""
   ]
  },
  {
   "cell_type": "markdown",
   "metadata": {},
   "source": [
    "## 1. What is an argument comprised of?\n",
    "\n",
    "An argument is made up of one or more **premises** and a **conclusion**. Both premises and conclusions are types of **statements**. Statements can be represented in both **natural language** (\"If it raining out, I use an umbrella.\") and  **symbolic formal language** (P $\\rightarrow$ Q)."
   ]
  },
  {
   "cell_type": "markdown",
   "metadata": {},
   "source": [
    "## 2. What types of arguments are there?\n",
    "\n",
    "- **Deductive arguments**: These arguments can be \"**valid**\" or \"**sound**\". To quote [wikipedia](https://en.wikipedia.org/wiki/Argument):\n",
    "> - in a **valid argument**, premisses necessitate the conclusion, even if one or more of the premisses is false and the conclusion is false\n",
    "> - in a **sound argument**, true premisses necessitate a true conclusion\n",
    "\n",
    "- **Inductive arguments**: In contrast with deductive arguments, which can be valid/not and/or sound/not, inductive arguments can have different degrees of logical strength. In inductive arguments, the probability that a conclusion is true is based on this \"logical strength\", which is in turn determined by criteria not limited to truth, such as persuasiveness (such as in [transcendental arguments](https://en.wikipedia.org/wiki/Transcendental_arguments)), hypothesis quality in [abductive reasoning](https://en.wikipedia.org/wiki/Abductive_reasoning) (also called abduction or retroduction), or [disclosure](https://en.wikipedia.org/wiki/World_disclosure)."
   ]
  },
  {
   "cell_type": "markdown",
   "metadata": {},
   "source": [
    "## 3. Can you simplify that?\n",
    "\n",
    "Sure. As per [the Simple Wiki page for \"argument\"](https://simple.wikipedia.org/wiki/Argument):\n",
    "> An argument is a [reason](https://simple.wiktionary.org/wiki/reason) to support an opinion.\n",
    ">\n",
    "> There can be a \"strong argument\" or a \"convincing argument\" (for example, a good reason for why something should be done). **Argumentation** is the [process](https://simple.wikipedia.org/wiki/Process) of conducting an argument.\n",
    ">\n",
    "> The opposite is a \"weak argument\" or an \"unconvincing argument\". An argument can be [valid](https://simple.wiktionary.org/wiki/valid) or [invalid](https://simple.wiktionary.org/wiki/invalid) or a combination of both. Some arguments may appear reasonable, but they turn out to be misleading or wrong."
   ]
  },
  {
   "cell_type": "markdown",
   "metadata": {},
   "source": [
    "# 4. Let's look at some example arguments\n",
    "\n",
    "## A. What are some [valid](https://en.wikipedia.org/wiki/Validity_(logic)) arguments?\n",
    "\n",
    "Ex1. \"Socrates is a man. All men are mortal. Therefore Socrates is mortal.\"\n",
    "\n",
    "> This is valid. The conclusion follows the premise."
   ]
  },
  {
   "cell_type": "markdown",
   "metadata": {},
   "source": [
    "## B. How about things that aren't arguments but still look appear to be so?\n",
    "\n",
    "Ex2. \"I was thirsty and therefore I drank.\"\n",
    "\n",
    "> \"therefore\" here indicates \"for that reason\", *not* \"it follows that\""
   ]
  },
  {
   "cell_type": "markdown",
   "metadata": {},
   "source": [
    "## C. What about arguments that are missing one or more premises?\n",
    "\n",
    "These are called **elliptical arguments**:\n",
    "\n",
    "Ex3. \"All metals expand when heated, therefore iron will expand when heated.\"\n",
    "> Missing premise: \"Iron is a metal.\" This may be understood implicitly by the audience. However, its lack of presence leaves the argument invalid.\n",
    "\n",
    "Where missing premises may be built in to an argument as a \"**hidden assumption**.\"\n",
    "\n",
    "Ex4. \"Nobody came out the front door except the milkman; therefore the murderer must have left by the back door.\"\n",
    "> Hidden assumptions:\n",
    "> - the milkman was not the murderer, and\n",
    "> - the murderer has left by the front or back door\n",
    "\n",
    "Examples from [main Wiki page on \"argument\"](https://en.wikipedia.org/wiki/Argument#Fallacies_and_non-arguments)"
   ]
  },
  {
   "cell_type": "markdown",
   "metadata": {},
   "source": [
    "## D. What about arguments that are [valid](https://en.wikipedia.org/wiki/Validity_(logic)) but nonsensical?\n",
    "\n",
    "Ex5. \"All cups are green. Socrates is a cup. Therefore, Socrates is green.\"\n",
    "\n",
    "> This is an argument \"with false premises and a false conclusion, and it is equally valid\"."
   ]
  },
  {
   "cell_type": "markdown",
   "metadata": {},
   "source": [
    "## E. Give me an example of an argument that is invalid:\n",
    "\n",
    "Ex6. \"All men are immortal. Socrates is a man. Therefore, Socrates is mortal.\"\n",
    "\n",
    "> \"The conclusion contradicts the deductive logic of the preceding premises, rather than deriving from it. Therefore, the argument is logically 'invalid', even though the conclusion could be considered 'true' in general terms.\""
   ]
  },
  {
   "cell_type": "markdown",
   "metadata": {},
   "source": [
    "\"An argument is termed formally valid if it has structural self-consistency, i.e. if when the operands between premises are all true, the derived conclusion is always also true.\""
   ]
  },
  {
   "cell_type": "markdown",
   "metadata": {},
   "source": [
    "## F. How is [soundness](https://en.wikipedia.org/wiki/Validity_(logic)) deteremined?\n",
    "\n",
    "Let's look at another example:\n",
    "\n",
    "Ex7. \"All animals live on Earth. All humans are animals. Therefore, all humans live on Earth.\"\n",
    "\n",
    "> The deduction above is valid. However, it is not sound. For a deductive argument to be sound, it must be valid and **all** the premises true."
   ]
  },
  {
   "cell_type": "markdown",
   "metadata": {},
   "source": [
    "# 5. Further Reading:\n",
    "\n",
    "## A. \"argument\" related words:\n",
    "\n",
    "Abductive reasoning, Argument map, Argumentation theory, Argumentative dialogue, Belief bias, Boolean logic, Deductive reasoning, Defeasible reasoning, Evidence, Evidence-based policy, Fallacy, Dialectic, Formal fallacy, Inductive reasoning, Informal fallacy, Inquiry, Practical arguments, Soundness theorem, Soundness, Syllogism, Truth, Validity"
   ]
  },
  {
   "cell_type": "markdown",
   "metadata": {},
   "source": [
    "## B. \"Validity\" Related Words:\n",
    "\n",
    "[Logical consequence](https://en.wikipedia.org/wiki/Logical_consequence), [Reductio ad absurdum](https://en.wikipedia.org/wiki/Reductio_ad_absurdum), [Mathematical fallacy](https://en.wikipedia.org/wiki/Mathematical_fallacy), [Soundness](https://en.wikipedia.org/wiki/Soundness), [Ω-validity](https://en.wikipedia.org/wiki/%CE%A9-logic#Analysis)"
   ]
  },
  {
   "cell_type": "markdown",
   "metadata": {},
   "source": [
    "# 6. Related Concepts\n",
    "\n",
    "- [Proposition](https://en.wikipedia.org/wiki/Proposition): \"a tentative and conjectural relationship between constructs that is stated in a declarative form\"\n",
    "\n",
    "- Ex8. “An increase in student intelligence causes an increase in their academic achievement.”\n",
    "\n",
    "> From [Wikipedia](https://en.wikipedia.org/wiki/Proposition): This declarative statement does not have to be true, but must be empirically testable using data, so that we can judge whether it is true or false. Propositions are generally derived based on deductive logic or empirical observation (induction). Because propositions are associations between abstract constructs, they cannot be tested directly. Instead, they are tested indirectly by examining the relationship between corresponding measures (variables) of those constructs. The empirical formulation of propositions, stated as relationships between variables, is called **hypotheses**.\n",
    "\n",
    "A number of philosophers and linguists claim that all definitions of a proposition are too vague to be useful. For them, it is just a misleading concept that should be removed from philosophy and semantics. W.V. Quine maintained that the indeterminacy of translation prevented any meaningful discussion of propositions, and that they should be discarded in favor of sentences. Strawson advocated the use of the term \"[statement](https://en.wikipedia.org/wiki/Statement_(logic))\".\n",
    "\n",
    "- [Satisfiability](https://en.wikipedia.org/wiki/Satisfiability)"
   ]
  },
  {
   "cell_type": "markdown",
   "metadata": {},
   "source": [
    "# 7. Further Reading:\n",
    "- Open Math Books on Discrete Logic: http://discrete.openmathbooks.org/dmoi3/ch_logic.html"
   ]
  },
  {
   "cell_type": "markdown",
   "metadata": {},
   "source": [
    "# 8. For next time:\n",
    "- [Fallacies](https://en.wikipedia.org/wiki/Formal_fallacy)\n",
    "- [Bias](https://cassandraxia.com/projs/advbiases/)"
   ]
  },
  {
   "cell_type": "code",
   "execution_count": null,
   "metadata": {},
   "outputs": [],
   "source": []
  }
 ],
 "metadata": {
  "kernelspec": {
   "display_name": "Python 3",
   "language": "python",
   "name": "python3"
  },
  "language_info": {
   "codemirror_mode": {
    "name": "ipython",
    "version": 3
   },
   "file_extension": ".py",
   "mimetype": "text/x-python",
   "name": "python",
   "nbconvert_exporter": "python",
   "pygments_lexer": "ipython3",
   "version": "3.7.1"
  }
 },
 "nbformat": 4,
 "nbformat_minor": 2
}
